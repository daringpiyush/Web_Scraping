{
 "cells": [
  {
   "cell_type": "code",
   "execution_count": 27,
   "metadata": {},
   "outputs": [],
   "source": [
    "from bs4 import BeautifulSoup as Soup\n",
    "from urllib.request import urlopen as uReq"
   ]
  },
  {
   "cell_type": "code",
   "execution_count": 33,
   "metadata": {},
   "outputs": [],
   "source": [
    "url='https://www.flipkart.com/search?q=samsung+phones&otracker=search&otracker1=search&marketplace=FLIPKART&as-show=off&as=off'"
   ]
  },
  {
   "cell_type": "code",
   "execution_count": 34,
   "metadata": {},
   "outputs": [],
   "source": [
    "uclient=uReq(url)\n",
    "page_html=uclient.read()\n",
    "uclient.close()"
   ]
  },
  {
   "cell_type": "code",
   "execution_count": 35,
   "metadata": {},
   "outputs": [],
   "source": [
    "page_soup=Soup(page_html,\"html.parser\")"
   ]
  },
  {
   "cell_type": "code",
   "execution_count": 36,
   "metadata": {},
   "outputs": [
    {
     "name": "stdout",
     "output_type": "stream",
     "text": [
      "24\n"
     ]
    }
   ],
   "source": [
    "containers=page_soup.findAll(\"div\",{\"class\":\"_1UoZlX\"})\n",
    "print(len(containers))"
   ]
  },
  {
   "cell_type": "code",
   "execution_count": 37,
   "metadata": {},
   "outputs": [
    {
     "name": "stdout",
     "output_type": "stream",
     "text": [
      "<div class=\"_1UoZlX\">\n",
      " <a class=\"_31qSD5\" href=\"/samsung-galaxy-a10s-black-32-gb/p/itmcbb3ea1c1d722?pid=MOBFJPAQ53GGFVZD&amp;lid=LSTMOBFJPAQ53GGFVZDXYZ4NU&amp;marketplace=FLIPKART&amp;srno=s_1_1&amp;otracker=search&amp;otracker1=search&amp;fm=organic&amp;iid=a83965b0-2c0e-41ce-8255-a7bb74c744ff.MOBFJPAQ53GGFVZD.SEARCH&amp;ssid=6ttb0ubnj40000001587627554885&amp;qH=a7cbfd544ee788e5\" rel=\"noopener noreferrer\" target=\"_blank\">\n",
      "  <div class=\"_3SQWE6\">\n",
      "   <div class=\"_1OCn9C\">\n",
      "    <div style=\"-webkit-filter:grayscale(1);-moz-filter:grayscale(1);-o-filter:grayscale(1);-ms-filter:grayscale(1);filter:grayscale(1);opacity:0.6\">\n",
      "     <div class=\"_3BTv9X\" style=\"height:200px;width:200px\">\n",
      "      <img alt=\"Samsung Galaxy A10s (Black, 32 GB)\" class=\"_1Nyybr\" src=\"//img1a.flixcart.com/www/linchpin/fk-cp-zion/img/placeholder_9951d0.svg\"/>\n",
      "     </div>\n",
      "    </div>\n",
      "    <div class=\"_3aV9Tq\">\n",
      "     <span class=\"_1GJ2ZM\">\n",
      "      Not Deliverable\n",
      "     </span>\n",
      "    </div>\n",
      "   </div>\n",
      "   <div class=\"_2lesQu\">\n",
      "    <div class=\"_1O_CiZ\">\n",
      "     <span class=\"_1iHA1p\">\n",
      "      <div class=\"_2kFyHg\">\n",
      "       <label>\n",
      "        <input class=\"_3uUUD5\" readonly=\"\" type=\"checkbox\"/>\n",
      "        <div class=\"_1p7h2j\">\n",
      "        </div>\n",
      "       </label>\n",
      "      </div>\n",
      "     </span>\n",
      "     <label class=\"_10TB-Q\">\n",
      "      <span>\n",
      "       Add to Compare\n",
      "      </span>\n",
      "     </label>\n",
      "    </div>\n",
      "   </div>\n",
      "   <div class=\"_3gDSOa _32A6AP\">\n",
      "    <div class=\"DsQ2eg\">\n",
      "     <svg class=\"_2oLiqr\" height=\"16\" viewbox=\"0 0 20 16\" width=\"16\" xmlns=\"http://www.w3.org/2000/svg\">\n",
      "      <path class=\"_35Y7Yo\" d=\"M8.695 16.682C4.06 12.382 1 9.536 1 6.065 1 3.219 3.178 1 5.95 1c1.566 0 3.069.746 4.05 1.915C10.981 1.745 12.484 1 14.05 1 16.822 1 19 3.22 19 6.065c0 3.471-3.06 6.316-7.695 10.617L10 17.897l-1.305-1.215z\" fill=\"#2874F0\" fill-rule=\"evenodd\" opacity=\".9\" stroke=\"#FFF\">\n",
      "      </path>\n",
      "     </svg>\n",
      "    </div>\n",
      "   </div>\n",
      "  </div>\n",
      "  <div class=\"_1-2Iqu row\">\n",
      "   <div class=\"col col-7-12\">\n",
      "    <div class=\"_3wU53n\">\n",
      "     Samsung Galaxy A10s (Black, 32 GB)\n",
      "    </div>\n",
      "    <div class=\"niH0FQ\">\n",
      "     <span class=\"_2_KrJI\" id=\"productRating_LSTMOBFJPAQ53GGFVZDXYZ4NU_MOBFJPAQ53GGFVZD_\">\n",
      "      <div class=\"hGSR34\">\n",
      "       4.4\n",
      "       <img class=\"_2lQ_WZ\" src=\"data:image/svg+xml;base64,PHN2ZyB4bWxucz0iaHR0cDovL3d3dy53My5vcmcvMjAwMC9zdmciIHdpZHRoPSIxMyIgaGVpZ2h0PSIxMiI+PHBhdGggZmlsbD0iI0ZGRiIgZD0iTTYuNSA5LjQzOWwtMy42NzQgMi4yMy45NC00LjI2LTMuMjEtMi44ODMgNC4yNTQtLjQwNEw2LjUuMTEybDEuNjkgNC4wMSA0LjI1NC40MDQtMy4yMSAyLjg4Mi45NCA0LjI2eiIvPjwvc3ZnPg==\"/>\n",
      "      </div>\n",
      "     </span>\n",
      "     <span class=\"_38sUEc\">\n",
      "      <span>\n",
      "       <span>\n",
      "        1,359 Ratings\n",
      "       </span>\n",
      "       <span class=\"_1VpSqZ\">\n",
      "        &amp;\n",
      "       </span>\n",
      "       <span>\n",
      "        110 Reviews\n",
      "       </span>\n",
      "      </span>\n",
      "     </span>\n",
      "    </div>\n",
      "    <div class=\"_3ULzGw\">\n",
      "     <ul class=\"vFw0gD\">\n",
      "      <li class=\"tVe95H\">\n",
      "       2 GB RAM | 32 GB ROM | Expandable Upto 512 GB\n",
      "      </li>\n",
      "      <li class=\"tVe95H\">\n",
      "       15.75 cm (6.2 inch) HD+ Display\n",
      "      </li>\n",
      "      <li class=\"tVe95H\">\n",
      "       13MP + 2MP | 8MP Front Camera\n",
      "      </li>\n",
      "      <li class=\"tVe95H\">\n",
      "       4000 mAh Lithium-ion Battery\n",
      "      </li>\n",
      "      <li class=\"tVe95H\">\n",
      "       MediaTek MT6762 Processor\n",
      "      </li>\n",
      "      <li class=\"tVe95H\">\n",
      "       Brand Warranty of 1 Year Available for Mobile and 6 Months for Accessories\n",
      "      </li>\n",
      "     </ul>\n",
      "    </div>\n",
      "   </div>\n",
      "   <div class=\"col col-5-12 _2o7WAb\">\n",
      "    <div class=\"_6BWGkk\">\n",
      "     <div class=\"_1uv9Cb\">\n",
      "      <div class=\"_1vC4OE _2rQ-NK\">\n",
      "       ₹8,980\n",
      "      </div>\n",
      "      <div class=\"_3auQ3N _2GcJzG\">\n",
      "       ₹\n",
      "       <!-- -->\n",
      "       10,000\n",
      "      </div>\n",
      "      <div class=\"VGWI6T\">\n",
      "       <span>\n",
      "        10% off\n",
      "       </span>\n",
      "      </div>\n",
      "     </div>\n",
      "    </div>\n",
      "    <div class=\"_3n6o0t\">\n",
      "     <img height=\"21\" src=\"//img1a.flixcart.com/www/linchpin/fk-cp-zion/img/fa_8b4b59.png\"/>\n",
      "    </div>\n",
      "   </div>\n",
      "  </div>\n",
      " </a>\n",
      "</div>\n"
     ]
    }
   ],
   "source": [
    "print(Soup.prettify(containers[0]))"
   ]
  },
  {
   "cell_type": "code",
   "execution_count": 38,
   "metadata": {},
   "outputs": [
    {
     "name": "stdout",
     "output_type": "stream",
     "text": [
      "Samsung Galaxy A10s (Black, 32 GB)\n"
     ]
    }
   ],
   "source": [
    "container=containers[0]\n",
    "print(container.div.img[\"alt\"])"
   ]
  },
  {
   "cell_type": "code",
   "execution_count": 39,
   "metadata": {},
   "outputs": [
    {
     "name": "stdout",
     "output_type": "stream",
     "text": [
      "₹8,980₹10,00010% off\n"
     ]
    }
   ],
   "source": [
    "price=container.findAll(\"div\",{\"class\":\"col col-5-12 _2o7WAb\"})\n",
    "print(price[0].text)"
   ]
  },
  {
   "cell_type": "code",
   "execution_count": 40,
   "metadata": {},
   "outputs": [
    {
     "name": "stdout",
     "output_type": "stream",
     "text": [
      "4.41,359 Ratings & 110 Reviews\n",
      "4.41,359 Ratings & 110 Reviews\n"
     ]
    }
   ],
   "source": [
    "ratings=container.findAll(\"div\",{\"class\":\"niH0FQ\"})\n",
    "print(ratings[0].text)\n",
    "reviews=container.findAll(\"div\",{\"class\":\"niH0FQ\"})\n",
    "print(reviews[0].text)"
   ]
  },
  {
   "cell_type": "code",
   "execution_count": 41,
   "metadata": {},
   "outputs": [
    {
     "data": {
      "text/plain": [
       "29"
      ]
     },
     "execution_count": 41,
     "metadata": {},
     "output_type": "execute_result"
    }
   ],
   "source": [
    "filename=\"productsf.csv\"\n",
    "f=open(filename,\"w\")\n",
    "headers=\"Product_Name,Pricing,ratings\\n\"\n",
    "f.write(headers)"
   ]
  },
  {
   "cell_type": "code",
   "execution_count": 42,
   "metadata": {},
   "outputs": [
    {
     "name": "stdout",
     "output_type": "stream",
     "text": [
      "Samsung Galaxy A10s (Black| 32 GB),Rs.8980,4.41,359\n",
      "\n",
      "Samsung Guru 1200,Rs.1348,4.31,20,599\n",
      "\n",
      "Samsung Galaxy M30s (Blue| 128 GB),Rs.17899,4.3344\n",
      "\n",
      "Samsung Galaxy M30s (Black| 64 GB),Rs.14900,4.42,336\n",
      "\n",
      "Samsung Galaxy M30s (Black| 64 GB),Rs.14073,4.42,336\n",
      "\n",
      "Samsung Guru Music 2,Rs.1760,4.31,33,257\n",
      "\n",
      "Samsung Guru Music 2,Rs.1760,4.31,33,257\n",
      "\n",
      "Samsung Guru Music 2,Rs.1760,4.31,33,257\n",
      "\n",
      "Samsung Galaxy A10s (Black| 32 GB),Rs.10099,4.3894\n",
      "\n",
      "Samsung Galaxy A51 (Prism Crush Blue| 128 GB),Rs.23899,4.41,151\n",
      "\n",
      "Samsung Galaxy A50s (Prism Crush Violet| 128 GB),Rs.18570,4.34,356\n",
      "\n",
      "Samsung Galaxy A71 (Prism Crush Blue| 128 GB),Rs.31500,4.6176\n",
      "\n",
      "Samsung Guru Music 2,Rs.1760,4.31,33,257\n",
      "\n",
      "Samsung Guru 1200,Rs.1343,4.31,20,599\n",
      "\n",
      "Samsung Galaxy M40 (Seawater Blue| 128 GB),Rs.19999,4.2442\n",
      "\n",
      "Samsung Galaxy A30 (Black| 64 GB),Rs.13799,4.416,922\n",
      "\n",
      "Samsung Galaxy A50 (Black| 64 GB),Rs.15899,4.353,634\n",
      "\n",
      "Samsung Galaxy S20 (Cloud Blue| 128 GB),Rs.70500,4.134\n",
      "\n",
      "Samsung Galaxy A50 (Blue| 64 GB),Rs.15899,4.353,634\n",
      "\n",
      "Samsung Metro 313 Dual Sim,Rs.2294,4.37,794\n",
      "\n",
      "Samsung Guru FM Plus SM-B110E/D,Rs.1662,4.345,089\n",
      "\n",
      "Samsung Galaxy S10 Lite (Prism Black| 128 GB),Rs.42099,4.54,938\n",
      "\n",
      "Samsung Metro 313 Dual Sim,Rs.2340,4.28,571\n",
      "\n",
      "Samsung Guru 1200,Rs.1346,4.31,20,599\n",
      "\n"
     ]
    }
   ],
   "source": [
    "for container in containers:\n",
    "    product_name=container.div.img[\"alt\"]\n",
    "    product_ratings=container.findAll(\"div\", {\"class\":\"niH0FQ\"})\n",
    "    rating=product_ratings[0].text\n",
    "    product_price=container.findAll(\"div\", {\"class\":\"col col-5-12 _2o7WAb\"})\n",
    "    price=product_price[0].text.strip()\n",
    " #print(\"product_name:\"+product_name)\n",
    " #print(\"product_ratings:\"+rating)\n",
    " #print(\"product_price:\"+price)\n",
    "    trim_price=''.join(price.split(','))\n",
    "    rm_rupee=trim_price.split(\"₹\")\n",
    "    add_rs=\"Rs.\"+rm_rupee[1]\n",
    "    split_price=add_rs.split('N')\n",
    "    final_price=split_price[0]\n",
    "    split_rating=rating.split(\" \")\n",
    "    final_rating=split_rating[0]\n",
    "    print(product_name.replace(\",\",\"|\") +\",\"+ final_price+\",\" + final_rating+\"\\n\")\n",
    "    f.write(product_name.replace(\",\",\"|\") + \",\"+ final_price+\",\"+ final_rating+\"\\n\")"
   ]
  },
  {
   "cell_type": "code",
   "execution_count": 43,
   "metadata": {},
   "outputs": [],
   "source": [
    "f.close()"
   ]
  },
  {
   "cell_type": "code",
   "execution_count": null,
   "metadata": {},
   "outputs": [],
   "source": []
  },
  {
   "cell_type": "code",
   "execution_count": null,
   "metadata": {},
   "outputs": [],
   "source": []
  }
 ],
 "metadata": {
  "kernelspec": {
   "display_name": "Python 3",
   "language": "python",
   "name": "python3"
  },
  "language_info": {
   "codemirror_mode": {
    "name": "ipython",
    "version": 3
   },
   "file_extension": ".py",
   "mimetype": "text/x-python",
   "name": "python",
   "nbconvert_exporter": "python",
   "pygments_lexer": "ipython3",
   "version": "3.7.3"
  }
 },
 "nbformat": 4,
 "nbformat_minor": 2
}
